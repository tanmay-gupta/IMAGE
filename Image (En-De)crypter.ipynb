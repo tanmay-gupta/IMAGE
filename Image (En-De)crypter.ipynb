{
 "cells": [
  {
   "cell_type": "code",
   "execution_count": 2,
   "metadata": {},
   "outputs": [
    {
     "name": "stderr",
     "output_type": "stream",
     "text": [
      "Using TensorFlow backend.\n"
     ]
    }
   ],
   "source": [
    "import numpy as np\n",
    "import pandas as pd\n",
    "import matplotlib.pyplot as plt\n",
    "from sklearn.model_selection import train_test_split\n",
    "from keras.layers import Dense, Activation, Input\n",
    "from keras.models import Sequential\n",
    "from keras.utils import np_utils"
   ]
  },
  {
   "cell_type": "code",
   "execution_count": 3,
   "metadata": {},
   "outputs": [],
   "source": [
    "data_csv = pd.read_csv('C:/Users/gupta/Desktop/dotc/cb_ml/train.csv')       #reading MNIST data"
   ]
  },
  {
   "cell_type": "code",
   "execution_count": 4,
   "metadata": {},
   "outputs": [],
   "source": [
    "data = data_csv[:10000].values       #10000 value gave pretty good accuracy"
   ]
  },
  {
   "cell_type": "code",
   "execution_count": 5,
   "metadata": {},
   "outputs": [],
   "source": [
    "data = data[:,1:]/255.0              #normalise every column except 1st(label)"
   ]
  },
  {
   "cell_type": "code",
   "execution_count": 6,
   "metadata": {},
   "outputs": [],
   "source": [
    "#test_train split\n",
    "split = int(0.8*data.shape[0])                \n",
    "X_train = data[:split]\n",
    "Y_train = data[:split]\n",
    "\n",
    "X_test = data[split:]\n",
    "Y_test = data[split:]"
   ]
  },
  {
   "cell_type": "code",
   "execution_count": 7,
   "metadata": {},
   "outputs": [
    {
     "name": "stdout",
     "output_type": "stream",
     "text": [
      "_________________________________________________________________\n",
      "Layer (type)                 Output Shape              Param #   \n",
      "=================================================================\n",
      "dense_1 (Dense)              (None, 100)               78500     \n",
      "_________________________________________________________________\n",
      "activation_1 (Activation)    (None, 100)               0         \n",
      "=================================================================\n",
      "Total params: 78,500\n",
      "Trainable params: 78,500\n",
      "Non-trainable params: 0\n",
      "_________________________________________________________________\n"
     ]
    }
   ],
   "source": [
    "#training a simple encrypter model\n",
    "\n",
    "Encrypter = Sequential()\n",
    "Encrypter.add( Dense(100, input_shape = (784,) ) )\n",
    "Encrypter.add( Activation('sigmoid') )\n",
    "Encrypter.summary()"
   ]
  },
  {
   "cell_type": "code",
   "execution_count": 8,
   "metadata": {},
   "outputs": [
    {
     "name": "stdout",
     "output_type": "stream",
     "text": [
      "_________________________________________________________________\n",
      "Layer (type)                 Output Shape              Param #   \n",
      "=================================================================\n",
      "dense_2 (Dense)              (None, 784)               79184     \n",
      "_________________________________________________________________\n",
      "activation_2 (Activation)    (None, 784)               0         \n",
      "=================================================================\n",
      "Total params: 79,184\n",
      "Trainable params: 79,184\n",
      "Non-trainable params: 0\n",
      "_________________________________________________________________\n"
     ]
    }
   ],
   "source": [
    "#deploying a corresponding decrypter model\n",
    "Decrypter = Sequential()\n",
    "Decrypter.add( Dense(784, input_shape = (100,)) )\n",
    "Decrypter.add( Activation('sigmoid') )\n",
    "Decrypter.summary()"
   ]
  },
  {
   "cell_type": "code",
   "execution_count": 10,
   "metadata": {},
   "outputs": [
    {
     "name": "stdout",
     "output_type": "stream",
     "text": [
      "_________________________________________________________________\n",
      "Layer (type)                 Output Shape              Param #   \n",
      "=================================================================\n",
      "sequential_1 (Sequential)    (None, 100)               78500     \n",
      "_________________________________________________________________\n",
      "sequential_2 (Sequential)    (None, 784)               79184     \n",
      "=================================================================\n",
      "Total params: 157,684\n",
      "Trainable params: 157,684\n",
      "Non-trainable params: 0\n",
      "_________________________________________________________________\n"
     ]
    }
   ],
   "source": [
    "#concatenating it for training\n",
    "Model = Sequential([Encrypter, Decrypter])\n",
    "Model.summary()"
   ]
  },
  {
   "cell_type": "code",
   "execution_count": 11,
   "metadata": {},
   "outputs": [
    {
     "name": "stdout",
     "output_type": "stream",
     "text": [
      "Train on 8000 samples, validate on 2000 samples\n",
      "Epoch 1/30\n",
      "8000/8000 [==============================] - 5s 648us/step - loss: 0.0607 - val_loss: 0.0450\n",
      "Epoch 2/30\n",
      "8000/8000 [==============================] - 4s 467us/step - loss: 0.0377 - val_loss: 0.0322\n",
      "Epoch 3/30\n",
      "8000/8000 [==============================] - 4s 516us/step - loss: 0.0284 - val_loss: 0.0255\n",
      "Epoch 4/30\n",
      "8000/8000 [==============================] - 4s 466us/step - loss: 0.0229 - val_loss: 0.0211\n",
      "Epoch 5/30\n",
      "8000/8000 [==============================] - 4s 473us/step - loss: 0.0191 - val_loss: 0.0180\n",
      "Epoch 6/30\n",
      "8000/8000 [==============================] - 4s 473us/step - loss: 0.0163 - val_loss: 0.0157\n",
      "Epoch 7/30\n",
      "8000/8000 [==============================] - 4s 480us/step - loss: 0.0142 - val_loss: 0.0140\n",
      "Epoch 8/30\n",
      "8000/8000 [==============================] - 4s 473us/step - loss: 0.0126 - val_loss: 0.0127\n",
      "Epoch 9/30\n",
      "8000/8000 [==============================] - 4s 483us/step - loss: 0.0114 - val_loss: 0.0115\n",
      "Epoch 10/30\n",
      "8000/8000 [==============================] - 4s 501us/step - loss: 0.0103 - val_loss: 0.0106\n",
      "Epoch 11/30\n",
      "8000/8000 [==============================] - 4s 513us/step - loss: 0.0095 - val_loss: 0.0099\n",
      "Epoch 12/30\n",
      "8000/8000 [==============================] - 4s 508us/step - loss: 0.0088 - val_loss: 0.0092\n",
      "Epoch 13/30\n",
      "8000/8000 [==============================] - 4s 492us/step - loss: 0.0082 - val_loss: 0.0087\n",
      "Epoch 14/30\n",
      "8000/8000 [==============================] - 4s 507us/step - loss: 0.0076 - val_loss: 0.0081\n",
      "Epoch 15/30\n",
      "8000/8000 [==============================] - 5s 576us/step - loss: 0.0071 - val_loss: 0.0077\n",
      "Epoch 16/30\n",
      "8000/8000 [==============================] - 4s 483us/step - loss: 0.0066 - val_loss: 0.0073\n",
      "Epoch 17/30\n",
      "8000/8000 [==============================] - 4s 482us/step - loss: 0.0062 - val_loss: 0.0069\n",
      "Epoch 18/30\n",
      "8000/8000 [==============================] - 4s 483us/step - loss: 0.0058 - val_loss: 0.0065\n",
      "Epoch 19/30\n",
      "8000/8000 [==============================] - 4s 482us/step - loss: 0.0055 - val_loss: 0.0061\n",
      "Epoch 20/30\n",
      "8000/8000 [==============================] - 4s 502us/step - loss: 0.0052 - val_loss: 0.0058\n",
      "Epoch 21/30\n",
      "8000/8000 [==============================] - 5s 676us/step - loss: 0.0049 - val_loss: 0.0056\n",
      "Epoch 22/30\n",
      "8000/8000 [==============================] - 5s 600us/step - loss: 0.0046 - val_loss: 0.0054\n",
      "Epoch 23/30\n",
      "8000/8000 [==============================] - 4s 491us/step - loss: 0.0044 - val_loss: 0.0052\n",
      "Epoch 24/30\n",
      "8000/8000 [==============================] - 4s 498us/step - loss: 0.0043 - val_loss: 0.0051\n",
      "Epoch 25/30\n",
      "8000/8000 [==============================] - 5s 595us/step - loss: 0.0041 - val_loss: 0.0049\n",
      "Epoch 26/30\n",
      "8000/8000 [==============================] - 4s 492us/step - loss: 0.0040 - val_loss: 0.0047\n",
      "Epoch 27/30\n",
      "8000/8000 [==============================] - 4s 462us/step - loss: 0.0038 - val_loss: 0.0047\n",
      "Epoch 28/30\n",
      "8000/8000 [==============================] - 4s 551us/step - loss: 0.0037 - val_loss: 0.0045\n",
      "Epoch 29/30\n",
      "8000/8000 [==============================] - 4s 539us/step - loss: 0.0036 - val_loss: 0.0044\n",
      "Epoch 30/30\n",
      "8000/8000 [==============================] - 5s 564us/step - loss: 0.0035 - val_loss: 0.0044\n"
     ]
    },
    {
     "data": {
      "text/plain": [
       "<keras.callbacks.History at 0x26ec5e99518>"
      ]
     },
     "execution_count": 11,
     "metadata": {},
     "output_type": "execute_result"
    }
   ],
   "source": [
    "#training dataset and validating\n",
    "Model.compile(optimizer='adam', loss='mse')\n",
    "Model.fit(X_train, Y_train, batch_size=10, epochs=30, validation_data=[X_test, Y_test],shuffle=True)"
   ]
  },
  {
   "cell_type": "code",
   "execution_count": 20,
   "metadata": {},
   "outputs": [
    {
     "data": {
      "image/png": "[encoded data removed]",
      "text/plain": [
       "<Figure size 432x288 with 1 Axes>"
      ]
     },
     "metadata": {},
     "output_type": "display_data"
    }
   ],
   "source": [
    "sample = X_train[1]          #selecting 1 image to test the result\n",
    "our_input = np.reshape( sample*255, (28,28))\n",
    "plt.imshow(  our_input, cmap = 'gray' )  #original image\n",
    "plt.show()\n",
    "inp = 'inp'\n",
    "plt.imsave('./'+str(inp),our_input,cmap = 'gray')\n"
   ]
  },
  {
   "cell_type": "code",
   "execution_count": 22,
   "metadata": {},
   "outputs": [
    {
     "data": {
      "image/png": "[encoded data removed]",
      "text/plain": [
       "<Figure size 432x288 with 1 Axes>"
      ]
     },
     "metadata": {},
     "output_type": "display_data"
    }
   ],
   "source": [
    "out = Model.predict( np.array([sample]) )             #final image after both encryption and decryption\n",
    "out = np.array( out[0]*255, dtype=np.uint8 )          \n",
    "plt.imshow( np.reshape(out, (28,28) ), cmap='gray' )\n",
    "plt.show()\n",
    "output = 'out'\n",
    "plt.imsave('./'+ str(output), np.reshape(out, (28,28) ),cmap = 'gray')"
   ]
  },
  {
   "cell_type": "code",
   "execution_count": 23,
   "metadata": {},
   "outputs": [
    {
     "data": {
      "image/png": "[encoded data removed]",
      "text/plain": [
       "<Figure size 432x288 with 1 Axes>"
      ]
     },
     "metadata": {},
     "output_type": "display_data"
    }
   ],
   "source": [
    "new = Encrypter.predict(np.array([sample]))           #displaying encrypted image\n",
    "new = np.array( new[0]*255, dtype=np.uint8 )\n",
    "plt.imshow( np.reshape(new, (10,10) ), cmap='gray' )\n",
    "plt.show()\n",
    "enc = 'encrypted'\n",
    "plt.imsave('./' +str(enc) , np.reshape(new, (10,10) ), cmap='gray' )"
   ]
  },
  {
   "cell_type": "code",
   "execution_count": null,
   "metadata": {},
   "outputs": [],
   "source": []
  }
 ],
 "metadata": {
  "kernelspec": {
   "display_name": "Python 3",
   "language": "python",
   "name": "python3"
  },
  "language_info": {
   "codemirror_mode": {
    "name": "ipython",
    "version": 3
   },
   "file_extension": ".py",
   "mimetype": "text/x-python",
   "name": "python",
   "nbconvert_exporter": "python",
   "pygments_lexer": "ipython3",
   "version": "3.5.0"
  }
 },
 "nbformat": 4,
 "nbformat_minor": 2
}

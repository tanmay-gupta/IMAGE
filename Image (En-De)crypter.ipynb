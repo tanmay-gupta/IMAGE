{
 "cells": [
  {
   "cell_type": "code",
   "execution_count": 15,
   "metadata": {},
   "outputs": [],
   "source": [
    "import numpy as np\n",
    "import pandas as pd\n",
    "import matplotlib.pyplot as plt\n",
    "from sklearn.model_selection import train_test_split\n",
    "from keras.layers import Dense, Activation, Input\n",
    "from keras.models import Sequential\n",
    "from keras.utils import np_utils"
   ]
  },
  {
   "cell_type": "code",
   "execution_count": 16,
   "metadata": {},
   "outputs": [],
   "source": [
    "data_csv = pd.read_csv('C:/Users/gupta/Desktop/dotc/cb_ml/train.csv')       #reading MNIST data"
   ]
  },
  {
   "cell_type": "code",
   "execution_count": 17,
   "metadata": {},
   "outputs": [],
   "source": [
    "data = data_csv[:10000].values       #10000 value gave pretty good accuracy"
   ]
  },
  {
   "cell_type": "code",
   "execution_count": 18,
   "metadata": {},
   "outputs": [],
   "source": [
    "data = data[:,1:]/255.0              #normalise every column except 1st(label)"
   ]
  },
  {
   "cell_type": "code",
   "execution_count": 19,
   "metadata": {},
   "outputs": [],
   "source": [
    "#test_train split\n",
    "split = int(0.8*data.shape[0])                \n",
    "X_train = data[:split]\n",
    "Y_train = data[:split]\n",
    "\n",
    "X_test = data[split:]\n",
    "Y_test = data[split:]"
   ]
  },
  {
   "cell_type": "code",
   "execution_count": 20,
   "metadata": {},
   "outputs": [
    {
     "name": "stdout",
     "output_type": "stream",
     "text": [
      "_________________________________________________________________\n",
      "Layer (type)                 Output Shape              Param #   \n",
      "=================================================================\n",
      "dense_3 (Dense)              (None, 100)               78500     \n",
      "_________________________________________________________________\n",
      "activation_3 (Activation)    (None, 100)               0         \n",
      "=================================================================\n",
      "Total params: 78,500\n",
      "Trainable params: 78,500\n",
      "Non-trainable params: 0\n",
      "_________________________________________________________________\n"
     ]
    }
   ],
   "source": [
    "#training a simple encrypter model\n",
    "\n",
    "Encrypter = Sequential()\n",
    "Encrypter.add( Dense(100, input_shape = (784,) ) )\n",
    "Encrypter.add( Activation('sigmoid') )\n",
    "Encrypter.summary()"
   ]
  },
  {
   "cell_type": "code",
   "execution_count": 21,
   "metadata": {},
   "outputs": [
    {
     "name": "stdout",
     "output_type": "stream",
     "text": [
      "_________________________________________________________________\n",
      "Layer (type)                 Output Shape              Param #   \n",
      "=================================================================\n",
      "dense_4 (Dense)              (None, 784)               79184     \n",
      "_________________________________________________________________\n",
      "activation_4 (Activation)    (None, 784)               0         \n",
      "=================================================================\n",
      "Total params: 79,184\n",
      "Trainable params: 79,184\n",
      "Non-trainable params: 0\n",
      "_________________________________________________________________\n"
     ]
    }
   ],
   "source": [
    "#deploying a corresponding decrypter model\n",
    "Decrypter = Sequential()\n",
    "Decrypter.add( Dense(784, input_shape = (100,)) )\n",
    "Decrypter.add( Activation('sigmoid') )\n",
    "Decrypter.summary()"
   ]
  },
  {
   "cell_type": "code",
   "execution_count": 22,
   "metadata": {},
   "outputs": [
    {
     "name": "stdout",
     "output_type": "stream",
     "text": [
      "_________________________________________________________________\n",
      "Layer (type)                 Output Shape              Param #   \n",
      "=================================================================\n",
      "sequential_1 (Sequential)    (None, 100)               78500     \n",
      "_________________________________________________________________\n",
      "sequential_2 (Sequential)    (None, 784)               79184     \n",
      "=================================================================\n",
      "Total params: 157,684\n",
      "Trainable params: 157,684\n",
      "Non-trainable params: 0\n",
      "_________________________________________________________________\n"
     ]
    }
   ],
   "source": [
    "#concatenating it for training\n",
    "Model = Sequential([Encoder, Decoder])\n",
    "Model.summary()"
   ]
  },
  {
   "cell_type": "code",
   "execution_count": 24,
   "metadata": {},
   "outputs": [
    {
     "name": "stdout",
     "output_type": "stream",
     "text": [
      "Train on 8000 samples, validate on 2000 samples\n",
      "Epoch 1/30\n",
      "8000/8000 [==============================] - 5s 653us/step - loss: 0.0024 - val_loss: 0.0034\n",
      "Epoch 2/30\n",
      "8000/8000 [==============================] - 4s 534us/step - loss: 0.0024 - val_loss: 0.0033\n",
      "Epoch 3/30\n",
      "8000/8000 [==============================] - 4s 545us/step - loss: 0.0024 - val_loss: 0.0033\n",
      "Epoch 4/30\n",
      "8000/8000 [==============================] - 4s 486us/step - loss: 0.0024 - val_loss: 0.0033\n",
      "Epoch 5/30\n",
      "8000/8000 [==============================] - 4s 521us/step - loss: 0.0024 - val_loss: 0.0033\n",
      "Epoch 6/30\n",
      "8000/8000 [==============================] - 6s 688us/step - loss: 0.0023 - val_loss: 0.0033\n",
      "Epoch 7/30\n",
      "8000/8000 [==============================] - 5s 597us/step - loss: 0.0023 - val_loss: 0.0033\n",
      "Epoch 8/30\n",
      "8000/8000 [==============================] - 6s 691us/step - loss: 0.0023 - val_loss: 0.0033\n",
      "Epoch 9/30\n",
      "8000/8000 [==============================] - 4s 560us/step - loss: 0.0023 - val_loss: 0.0032\n",
      "Epoch 10/30\n",
      "8000/8000 [==============================] - 4s 489us/step - loss: 0.0023 - val_loss: 0.0032\n",
      "Epoch 11/30\n",
      "8000/8000 [==============================] - 4s 522us/step - loss: 0.0023 - val_loss: 0.0032\n",
      "Epoch 12/30\n",
      "8000/8000 [==============================] - 4s 476us/step - loss: 0.0023 - val_loss: 0.0033\n",
      "Epoch 13/30\n",
      "8000/8000 [==============================] - 4s 482us/step - loss: 0.0023 - val_loss: 0.0032\n",
      "Epoch 14/30\n",
      "8000/8000 [==============================] - 4s 473us/step - loss: 0.0023 - val_loss: 0.0032\n",
      "Epoch 15/30\n",
      "8000/8000 [==============================] - 4s 454us/step - loss: 0.0023 - val_loss: 0.0033\n",
      "Epoch 16/30\n",
      "8000/8000 [==============================] - 4s 450us/step - loss: 0.0022 - val_loss: 0.0032\n",
      "Epoch 17/30\n",
      "8000/8000 [==============================] - 4s 458us/step - loss: 0.0022 - val_loss: 0.0032\n",
      "Epoch 18/30\n",
      "8000/8000 [==============================] - 4s 560us/step - loss: 0.0022 - val_loss: 0.0032\n",
      "Epoch 19/30\n",
      "8000/8000 [==============================] - 6s 766us/step - loss: 0.0022 - val_loss: 0.0032\n",
      "Epoch 20/30\n",
      "8000/8000 [==============================] - 4s 480us/step - loss: 0.0022 - val_loss: 0.0032\n",
      "Epoch 21/30\n",
      "8000/8000 [==============================] - 3s 426us/step - loss: 0.0022 - val_loss: 0.0032\n",
      "Epoch 22/30\n",
      "8000/8000 [==============================] - 4s 442us/step - loss: 0.0022 - val_loss: 0.0032\n",
      "Epoch 23/30\n",
      "8000/8000 [==============================] - 3s 435us/step - loss: 0.0022 - val_loss: 0.0032\n",
      "Epoch 24/30\n",
      "8000/8000 [==============================] - 4s 449us/step - loss: 0.0022 - val_loss: 0.0031\n",
      "Epoch 25/30\n",
      "8000/8000 [==============================] - 3s 429us/step - loss: 0.0022 - val_loss: 0.0032\n",
      "Epoch 26/30\n",
      "8000/8000 [==============================] - 3s 418us/step - loss: 0.0022 - val_loss: 0.0031\n",
      "Epoch 27/30\n",
      "8000/8000 [==============================] - 3s 417us/step - loss: 0.0022 - val_loss: 0.0032\n",
      "Epoch 28/30\n",
      "8000/8000 [==============================] - 4s 476us/step - loss: 0.0022 - val_loss: 0.0032\n",
      "Epoch 29/30\n",
      "8000/8000 [==============================] - 3s 429us/step - loss: 0.0021 - val_loss: 0.0031\n",
      "Epoch 30/30\n",
      "8000/8000 [==============================] - 5s 619us/step - loss: 0.0021 - val_loss: 0.0031\n"
     ]
    },
    {
     "data": {
      "text/plain": [
       "<keras.callbacks.History at 0x174582e8828>"
      ]
     },
     "execution_count": 24,
     "metadata": {},
     "output_type": "execute_result"
    }
   ],
   "source": [
    "#training dataset and validating\n",
    "Model.compile(optimizer='adam', loss='mse')\n",
    "Model.fit(X_train, Y_train, batch_size=10, epochs=30, validation_data=[X_test, Y_test],shuffle=True)"
   ]
  },
  {
   "cell_type": "code",
   "execution_count": 25,
   "metadata": {},
   "outputs": [
    {
     "data": {
      "text/plain": [
       "<matplotlib.image.AxesImage at 0x1745a5aa2b0>"
      ]
     },
     "execution_count": 25,
     "metadata": {},
     "output_type": "execute_result"
    },
    {
     "data": {
      "image/png": "[encoded data removed]",
      "text/plain": [
       "<Figure size 432x288 with 1 Axes>"
      ]
     },
     "metadata": {},
     "output_type": "display_data"
    }
   ],
   "source": [
    "sample = X_train[1]          #selecting 1 image to test the result\n",
    "plt.imshow( np.reshape( sample*255, (28,28) ), cmap = 'gray' )           #original image"
   ]
  },
  {
   "cell_type": "code",
   "execution_count": 26,
   "metadata": {},
   "outputs": [
    {
     "data": {
      "text/plain": [
       "<matplotlib.image.AxesImage at 0x1745a5e2fd0>"
      ]
     },
     "execution_count": 26,
     "metadata": {},
     "output_type": "execute_result"
    },
    {
     "data": {
      "image/png": "[encoded data removed]",
      "text/plain": [
       "<Figure size 432x288 with 1 Axes>"
      ]
     },
     "metadata": {},
     "output_type": "display_data"
    }
   ],
   "source": [
    "out = Model.predict( np.array([sample]) )             #final image after both encryption and decryption\n",
    "out = np.array( out[0]*255, dtype=np.uint8 )          \n",
    "plt.imshow( np.reshape(out, (28,28) ), cmap='gray' )"
   ]
  },
  {
   "cell_type": "code",
   "execution_count": 27,
   "metadata": {},
   "outputs": [
    {
     "data": {
      "text/plain": [
       "<matplotlib.image.AxesImage at 0x1745a619c88>"
      ]
     },
     "execution_count": 27,
     "metadata": {},
     "output_type": "execute_result"
    },
    {
     "data": {
      "image/png": "[encoded data removed]",
      "text/plain": [
       "<Figure size 432x288 with 1 Axes>"
      ]
     },
     "metadata": {},
     "output_type": "display_data"
    }
   ],
   "source": [
    "new = Encrypter.predict(np.array([sample]))           #displaying encrypted image\n",
    "new = np.array( new[0]*255, dtype=np.uint8 )\n",
    "plt.imshow( np.reshape(new, (10,10) ), cmap='gray' )"
   ]
  }
 ],
 "metadata": {
  "kernelspec": {
   "display_name": "Python 3",
   "language": "python",
   "name": "python3"
  },
  "language_info": {
   "codemirror_mode": {
    "name": "ipython",
    "version": 3
   },
   "file_extension": ".py",
   "mimetype": "text/x-python",
   "name": "python",
   "nbconvert_exporter": "python",
   "pygments_lexer": "ipython3",
   "version": "3.5.0"
  }
 },
 "nbformat": 4,
 "nbformat_minor": 2
}
